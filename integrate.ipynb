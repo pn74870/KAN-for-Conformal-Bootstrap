{
 "cells": [
  {
   "cell_type": "code",
   "execution_count": 1,
   "metadata": {},
   "outputs": [
    {
     "name": "stdout",
     "output_type": "stream",
     "text": [
      "Collecting torchmeta==1.4.6\n",
      "  Downloading torchmeta-1.4.6-py3-none-any.whl.metadata (7.7 kB)\n",
      "Downloading torchmeta-1.4.6-py3-none-any.whl (171 kB)\n",
      "Installing collected packages: torchmeta\n",
      "Successfully installed torchmeta-1.4.6\n",
      "Collecting ordered-set\n",
      "  Downloading ordered_set-4.1.0-py3-none-any.whl.metadata (5.3 kB)\n",
      "Downloading ordered_set-4.1.0-py3-none-any.whl (7.6 kB)\n",
      "Installing collected packages: ordered-set\n",
      "\u001b[31mERROR: pip's dependency resolver does not currently take into account all the packages that are installed. This behaviour is the source of the following dependency conflicts.\n",
      "torchmeta 1.4.6 requires h5py, which is not installed.\n",
      "torchmeta 1.4.6 requires requests, which is not installed.\n",
      "torchmeta 1.4.6 requires torchvision<0.7.0,>=0.5.0, which is not installed.\n",
      "torchmeta 1.4.6 requires torch<1.6.0,>=1.4.0, but you have torch 2.2.2 which is incompatible.\u001b[0m\u001b[31m\n",
      "\u001b[0mSuccessfully installed ordered-set-4.1.0\n",
      "Collecting colour\n",
      "  Downloading colour-0.1.5-py2.py3-none-any.whl.metadata (18 kB)\n",
      "Downloading colour-0.1.5-py2.py3-none-any.whl (23 kB)\n",
      "Installing collected packages: colour\n",
      "Successfully installed colour-0.1.5\n"
     ]
    },
    {
     "ename": "ModuleNotFoundError",
     "evalue": "No module named 'h5py'",
     "output_type": "error",
     "traceback": [
      "\u001b[0;31m---------------------------------------------------------------------------\u001b[0m",
      "\u001b[0;31mModuleNotFoundError\u001b[0m                       Traceback (most recent call last)",
      "Cell \u001b[0;32mIn[1], line 9\u001b[0m\n\u001b[1;32m      7\u001b[0m get_ipython()\u001b[38;5;241m.\u001b[39msystem(\u001b[38;5;124m'\u001b[39m\u001b[38;5;124mpip install ordered-set\u001b[39m\u001b[38;5;124m'\u001b[39m)\n\u001b[1;32m      8\u001b[0m get_ipython()\u001b[38;5;241m.\u001b[39msystem(\u001b[38;5;124m'\u001b[39m\u001b[38;5;124mpip install colour\u001b[39m\u001b[38;5;124m'\u001b[39m)\n\u001b[0;32m----> 9\u001b[0m \u001b[38;5;28;01mfrom\u001b[39;00m \u001b[38;5;21;01mtorchmeta\u001b[39;00m\u001b[38;5;21;01m.\u001b[39;00m\u001b[38;5;21;01mmodules\u001b[39;00m \u001b[38;5;28;01mimport\u001b[39;00m MetaModule\n",
      "File \u001b[0;32m~/.pyenv/versions/3.9.19/lib/python3.9/site-packages/torchmeta/__init__.py:1\u001b[0m\n\u001b[0;32m----> 1\u001b[0m \u001b[38;5;28;01mfrom\u001b[39;00m \u001b[38;5;21;01mtorchmeta\u001b[39;00m \u001b[38;5;28;01mimport\u001b[39;00m datasets\n\u001b[1;32m      2\u001b[0m \u001b[38;5;28;01mfrom\u001b[39;00m \u001b[38;5;21;01mtorchmeta\u001b[39;00m \u001b[38;5;28;01mimport\u001b[39;00m modules\n\u001b[1;32m      3\u001b[0m \u001b[38;5;28;01mfrom\u001b[39;00m \u001b[38;5;21;01mtorchmeta\u001b[39;00m \u001b[38;5;28;01mimport\u001b[39;00m toy\n",
      "File \u001b[0;32m~/.pyenv/versions/3.9.19/lib/python3.9/site-packages/torchmeta/datasets/__init__.py:1\u001b[0m\n\u001b[0;32m----> 1\u001b[0m \u001b[38;5;28;01mfrom\u001b[39;00m \u001b[38;5;21;01mtorchmeta\u001b[39;00m\u001b[38;5;21;01m.\u001b[39;00m\u001b[38;5;21;01mdatasets\u001b[39;00m\u001b[38;5;21;01m.\u001b[39;00m\u001b[38;5;21;01mtriplemnist\u001b[39;00m \u001b[38;5;28;01mimport\u001b[39;00m TripleMNIST\n\u001b[1;32m      2\u001b[0m \u001b[38;5;28;01mfrom\u001b[39;00m \u001b[38;5;21;01mtorchmeta\u001b[39;00m\u001b[38;5;21;01m.\u001b[39;00m\u001b[38;5;21;01mdatasets\u001b[39;00m\u001b[38;5;21;01m.\u001b[39;00m\u001b[38;5;21;01mdoublemnist\u001b[39;00m \u001b[38;5;28;01mimport\u001b[39;00m DoubleMNIST\n\u001b[1;32m      3\u001b[0m \u001b[38;5;28;01mfrom\u001b[39;00m \u001b[38;5;21;01mtorchmeta\u001b[39;00m\u001b[38;5;21;01m.\u001b[39;00m\u001b[38;5;21;01mdatasets\u001b[39;00m\u001b[38;5;21;01m.\u001b[39;00m\u001b[38;5;21;01mcub\u001b[39;00m \u001b[38;5;28;01mimport\u001b[39;00m CUB\n",
      "File \u001b[0;32m~/.pyenv/versions/3.9.19/lib/python3.9/site-packages/torchmeta/datasets/triplemnist.py:7\u001b[0m\n\u001b[1;32m      5\u001b[0m \u001b[38;5;28;01mimport\u001b[39;00m \u001b[38;5;21;01mjson\u001b[39;00m\n\u001b[1;32m      6\u001b[0m \u001b[38;5;28;01mimport\u001b[39;00m \u001b[38;5;21;01mglob\u001b[39;00m\n\u001b[0;32m----> 7\u001b[0m \u001b[38;5;28;01mimport\u001b[39;00m \u001b[38;5;21;01mh5py\u001b[39;00m\n\u001b[1;32m      9\u001b[0m \u001b[38;5;28;01mfrom\u001b[39;00m \u001b[38;5;21;01mtorchmeta\u001b[39;00m\u001b[38;5;21;01m.\u001b[39;00m\u001b[38;5;21;01mutils\u001b[39;00m\u001b[38;5;21;01m.\u001b[39;00m\u001b[38;5;21;01mdata\u001b[39;00m \u001b[38;5;28;01mimport\u001b[39;00m Dataset, ClassDataset, CombinationMetaDataset\n\u001b[1;32m     10\u001b[0m \u001b[38;5;28;01mfrom\u001b[39;00m \u001b[38;5;21;01mtorchvision\u001b[39;00m\u001b[38;5;21;01m.\u001b[39;00m\u001b[38;5;21;01mdatasets\u001b[39;00m\u001b[38;5;21;01m.\u001b[39;00m\u001b[38;5;21;01mutils\u001b[39;00m \u001b[38;5;28;01mimport\u001b[39;00m download_file_from_google_drive\n",
      "\u001b[0;31mModuleNotFoundError\u001b[0m: No module named 'h5py'"
     ]
    }
   ],
   "source": [
    "import torch\n",
    "import matplotlib.pyplot as plt\n",
    "import numpy as np\n",
    "from functools import partial\n",
    "from torch.utils.data import DataLoader\n",
    "!pip install --no-dependencies torchmeta==1.4.6\n",
    "!pip install ordered-set\n",
    "!pip install colour\n",
    "from torchmeta.modules import MetaModule"
   ]
  },
  {
   "cell_type": "code",
   "execution_count": 2,
   "metadata": {},
   "outputs": [
    {
     "name": "stdout",
     "output_type": "stream",
     "text": [
      "Cloning into 'automatic-integration'...\n",
      "warning: redirecting to https://github.com/computational-imaging/automatic-integration.git/\n",
      "remote: Enumerating objects: 81, done.\u001b[K\n",
      "remote: Counting objects: 100% (81/81), done.\u001b[K\n",
      "remote: Compressing objects: 100% (70/70), done.\u001b[K\n",
      "remote: Total 81 (delta 33), reused 45 (delta 8), pack-reused 0 (from 0)\u001b[K\n",
      "Receiving objects: 100% (81/81), 403.85 KiB | 780.00 KiB/s, done.\n",
      "Resolving deltas: 100% (33/33), done.\n",
      "/Users/justinas/Documents/python/kan nets/automatic-integration\n"
     ]
    },
    {
     "name": "stderr",
     "output_type": "stream",
     "text": [
      "/Users/justinas/.pyenv/versions/3.9.19/lib/python3.9/site-packages/IPython/core/magics/osm.py:417: UserWarning: using dhist requires you to install the `pickleshare` library.\n",
      "  self.shell.db['dhist'] = compress_dhist(dhist)[-100:]\n"
     ]
    },
    {
     "ename": "ModuleNotFoundError",
     "evalue": "No module named 'h5py'",
     "output_type": "error",
     "traceback": [
      "\u001b[0;31m---------------------------------------------------------------------------\u001b[0m",
      "\u001b[0;31mModuleNotFoundError\u001b[0m                       Traceback (most recent call last)",
      "Cell \u001b[0;32mIn[2], line 8\u001b[0m\n\u001b[1;32m      5\u001b[0m     get_ipython()\u001b[38;5;241m.\u001b[39msystem(\u001b[38;5;124m'\u001b[39m\u001b[38;5;124mgit clone https://www.github.com/computational-imaging/automatic-integration\u001b[39m\u001b[38;5;124m'\u001b[39m)\n\u001b[1;32m      6\u001b[0m     get_ipython()\u001b[38;5;241m.\u001b[39mrun_line_magic(\u001b[38;5;124m'\u001b[39m\u001b[38;5;124mcd\u001b[39m\u001b[38;5;124m'\u001b[39m, \u001b[38;5;124m'\u001b[39m\u001b[38;5;124mautomatic-integration\u001b[39m\u001b[38;5;124m'\u001b[39m)\n\u001b[0;32m----> 8\u001b[0m \u001b[38;5;28;01mfrom\u001b[39;00m \u001b[38;5;21;01mautoint\u001b[39;00m\u001b[38;5;21;01m.\u001b[39;00m\u001b[38;5;21;01msession\u001b[39;00m \u001b[38;5;28;01mimport\u001b[39;00m Session\n\u001b[1;32m      9\u001b[0m \u001b[38;5;28;01mimport\u001b[39;00m \u001b[38;5;21;01mautoint\u001b[39;00m\u001b[38;5;21;01m.\u001b[39;00m\u001b[38;5;21;01mautograd_modules\u001b[39;00m \u001b[38;5;28;01mas\u001b[39;00m \u001b[38;5;21;01mautoint\u001b[39;00m\n",
      "File \u001b[0;32m~/Documents/python/kan nets/automatic-integration/autoint/session.py:3\u001b[0m\n\u001b[1;32m      1\u001b[0m \u001b[38;5;28;01mimport\u001b[39;00m \u001b[38;5;21;01mnetworkx\u001b[39;00m \u001b[38;5;28;01mas\u001b[39;00m \u001b[38;5;21;01mnx\u001b[39;00m\n\u001b[1;32m      2\u001b[0m \u001b[38;5;28;01mimport\u001b[39;00m \u001b[38;5;21;01mmatplotlib\u001b[39;00m\u001b[38;5;21;01m.\u001b[39;00m\u001b[38;5;21;01mpyplot\u001b[39;00m \u001b[38;5;28;01mas\u001b[39;00m \u001b[38;5;21;01mplt\u001b[39;00m\n\u001b[0;32m----> 3\u001b[0m \u001b[38;5;28;01mfrom\u001b[39;00m \u001b[38;5;21;01m.\u001b[39;00m\u001b[38;5;21;01mautograd_modules\u001b[39;00m \u001b[38;5;28;01mimport\u001b[39;00m AutoDiffNode, Input, Constant\n\u001b[1;32m      4\u001b[0m \u001b[38;5;28;01mimport\u001b[39;00m \u001b[38;5;21;01mcopy\u001b[39;00m\n\u001b[1;32m      5\u001b[0m \u001b[38;5;28;01mimport\u001b[39;00m \u001b[38;5;21;01mitertools\u001b[39;00m\n",
      "File \u001b[0;32m~/Documents/python/kan nets/automatic-integration/autoint/autograd_modules.py:5\u001b[0m\n\u001b[1;32m      3\u001b[0m \u001b[38;5;28;01mimport\u001b[39;00m \u001b[38;5;21;01mmath\u001b[39;00m\n\u001b[1;32m      4\u001b[0m \u001b[38;5;28;01mimport\u001b[39;00m \u001b[38;5;21;01mcopy\u001b[39;00m\n\u001b[0;32m----> 5\u001b[0m \u001b[38;5;28;01mfrom\u001b[39;00m \u001b[38;5;21;01mtorchmeta\u001b[39;00m\u001b[38;5;21;01m.\u001b[39;00m\u001b[38;5;21;01mmodules\u001b[39;00m \u001b[38;5;28;01mimport\u001b[39;00m MetaModule\n\u001b[1;32m      6\u001b[0m \u001b[38;5;28;01mfrom\u001b[39;00m \u001b[38;5;21;01mtorchmeta\u001b[39;00m\u001b[38;5;21;01m.\u001b[39;00m\u001b[38;5;21;01mmodules\u001b[39;00m\u001b[38;5;21;01m.\u001b[39;00m\u001b[38;5;21;01mutils\u001b[39;00m \u001b[38;5;28;01mimport\u001b[39;00m get_subdict\n\u001b[1;32m      7\u001b[0m \u001b[38;5;28;01mfrom\u001b[39;00m \u001b[38;5;21;01mcollections\u001b[39;00m \u001b[38;5;28;01mimport\u001b[39;00m OrderedDict\n",
      "File \u001b[0;32m~/.pyenv/versions/3.9.19/lib/python3.9/site-packages/torchmeta/__init__.py:1\u001b[0m\n\u001b[0;32m----> 1\u001b[0m \u001b[38;5;28;01mfrom\u001b[39;00m \u001b[38;5;21;01mtorchmeta\u001b[39;00m \u001b[38;5;28;01mimport\u001b[39;00m datasets\n\u001b[1;32m      2\u001b[0m \u001b[38;5;28;01mfrom\u001b[39;00m \u001b[38;5;21;01mtorchmeta\u001b[39;00m \u001b[38;5;28;01mimport\u001b[39;00m modules\n\u001b[1;32m      3\u001b[0m \u001b[38;5;28;01mfrom\u001b[39;00m \u001b[38;5;21;01mtorchmeta\u001b[39;00m \u001b[38;5;28;01mimport\u001b[39;00m toy\n",
      "File \u001b[0;32m~/.pyenv/versions/3.9.19/lib/python3.9/site-packages/torchmeta/datasets/__init__.py:1\u001b[0m\n\u001b[0;32m----> 1\u001b[0m \u001b[38;5;28;01mfrom\u001b[39;00m \u001b[38;5;21;01mtorchmeta\u001b[39;00m\u001b[38;5;21;01m.\u001b[39;00m\u001b[38;5;21;01mdatasets\u001b[39;00m\u001b[38;5;21;01m.\u001b[39;00m\u001b[38;5;21;01mtriplemnist\u001b[39;00m \u001b[38;5;28;01mimport\u001b[39;00m TripleMNIST\n\u001b[1;32m      2\u001b[0m \u001b[38;5;28;01mfrom\u001b[39;00m \u001b[38;5;21;01mtorchmeta\u001b[39;00m\u001b[38;5;21;01m.\u001b[39;00m\u001b[38;5;21;01mdatasets\u001b[39;00m\u001b[38;5;21;01m.\u001b[39;00m\u001b[38;5;21;01mdoublemnist\u001b[39;00m \u001b[38;5;28;01mimport\u001b[39;00m DoubleMNIST\n\u001b[1;32m      3\u001b[0m \u001b[38;5;28;01mfrom\u001b[39;00m \u001b[38;5;21;01mtorchmeta\u001b[39;00m\u001b[38;5;21;01m.\u001b[39;00m\u001b[38;5;21;01mdatasets\u001b[39;00m\u001b[38;5;21;01m.\u001b[39;00m\u001b[38;5;21;01mcub\u001b[39;00m \u001b[38;5;28;01mimport\u001b[39;00m CUB\n",
      "File \u001b[0;32m~/.pyenv/versions/3.9.19/lib/python3.9/site-packages/torchmeta/datasets/triplemnist.py:7\u001b[0m\n\u001b[1;32m      5\u001b[0m \u001b[38;5;28;01mimport\u001b[39;00m \u001b[38;5;21;01mjson\u001b[39;00m\n\u001b[1;32m      6\u001b[0m \u001b[38;5;28;01mimport\u001b[39;00m \u001b[38;5;21;01mglob\u001b[39;00m\n\u001b[0;32m----> 7\u001b[0m \u001b[38;5;28;01mimport\u001b[39;00m \u001b[38;5;21;01mh5py\u001b[39;00m\n\u001b[1;32m      9\u001b[0m \u001b[38;5;28;01mfrom\u001b[39;00m \u001b[38;5;21;01mtorchmeta\u001b[39;00m\u001b[38;5;21;01m.\u001b[39;00m\u001b[38;5;21;01mutils\u001b[39;00m\u001b[38;5;21;01m.\u001b[39;00m\u001b[38;5;21;01mdata\u001b[39;00m \u001b[38;5;28;01mimport\u001b[39;00m Dataset, ClassDataset, CombinationMetaDataset\n\u001b[1;32m     10\u001b[0m \u001b[38;5;28;01mfrom\u001b[39;00m \u001b[38;5;21;01mtorchvision\u001b[39;00m\u001b[38;5;21;01m.\u001b[39;00m\u001b[38;5;21;01mdatasets\u001b[39;00m\u001b[38;5;21;01m.\u001b[39;00m\u001b[38;5;21;01mutils\u001b[39;00m \u001b[38;5;28;01mimport\u001b[39;00m download_file_from_google_drive\n",
      "\u001b[0;31mModuleNotFoundError\u001b[0m: No module named 'h5py'"
     ]
    }
   ],
   "source": [
    "import sys\n",
    "import os\n",
    "\n",
    "if not os.path.isdir('automatic-integration'):\n",
    "    !git clone https://www.github.com/computational-imaging/automatic-integration\n",
    "    %cd automatic-integration\n",
    "    \n",
    "from autoint.session import Session\n",
    "import autoint.autograd_modules as autoint"
   ]
  },
  {
   "cell_type": "code",
   "execution_count": 1,
   "metadata": {},
   "outputs": [],
   "source": [
    "import torch\n",
    "import torch.nn as nn\n",
    "import numpy as np\n",
    "import sympy as sp\n",
    "from tqdm import tqdm\n",
    "\n",
    "# Import KAN module (assuming it's available)\n",
    "from kan import *  # Ensure that 'kan' is installed or available in your PYTHONPATH"
   ]
  },
  {
   "cell_type": "code",
   "execution_count": 36,
   "metadata": {},
   "outputs": [],
   "source": [
    "import numpy as np\n",
    "import matplotlib.pyplot as plt\n",
    "\n",
    "def plot_function_and_model(func, model, xmin, xmax, *args, **kwargs):\n",
    "    # Generate x values from xmin to xmax\n",
    "    x = np.linspace(xmin, xmax, 500)\n",
    "    \n",
    "    # Calculate y values for the function\n",
    "    try:\n",
    "        # Check if func works with numpy array\n",
    "        y_func = func(x, *args, **kwargs)\n",
    "    except TypeError:\n",
    "        # If func requires a PyTorch tensor, convert x to tensor\n",
    "        x_tensor = torch.tensor(x, dtype=torch.float32)\n",
    "        y_func = func(x_tensor, *args, **kwargs).numpy()\n",
    "    \n",
    "    # Prepare x as a PyTorch tensor and reshape it for the model\n",
    "    x_tensor = torch.tensor(x, dtype=torch.float32).unsqueeze(1)\n",
    "    \n",
    "    # Calculate y values for the model\n",
    "    with torch.no_grad():\n",
    "        y_model = model(x_tensor).numpy().flatten()\n",
    "    \n",
    "    # Plot both results\n",
    "    plt.figure(figsize=(8, 6))\n",
    "    plt.plot(x, y_func, label=f\"{func.__name__} function\" if hasattr(func, '__name__') else \"function\")\n",
    "    plt.plot(x, y_model, label=f\"{model.__class__.__name__} model\", linestyle='--')\n",
    "    plt.xlabel(\"x\")\n",
    "    plt.ylabel(\"y\")\n",
    "    plt.title(f\"Plot of function and {model.__class__.__name__} model from {xmin} to {xmax}\")\n",
    "    plt.legend()\n",
    "    plt.grid(True)\n",
    "    plt.show()\n",
    "\n",
    "\n",
    "\n",
    "\n",
    "\n",
    "\n"
   ]
  },
  {
   "cell_type": "code",
   "execution_count": 57,
   "metadata": {},
   "outputs": [
    {
     "data": {
      "image/png": "[encoded data removed]",
      "text/plain": [
       "<Figure size 800x600 with 1 Axes>"
      ]
     },
     "metadata": {},
     "output_type": "display_data"
    }
   ],
   "source": [
    "plot_function_and_model(f,model, -1., 1.)"
   ]
  },
  {
   "cell_type": "code",
   "execution_count": null,
   "metadata": {},
   "outputs": [],
   "source": [
    "model(torch.tensor([1.]))"
   ]
  },
  {
   "cell_type": "code",
   "execution_count": 42,
   "metadata": {},
   "outputs": [
    {
     "name": "stdout",
     "output_type": "stream",
     "text": [
      "cpu\n",
      "checkpoint directory created: ./model\n",
      "saving model version 0.0\n"
     ]
    }
   ],
   "source": [
    "\n",
    "\n",
    "\n",
    "device = torch.device('cuda' if torch.cuda.is_available() else 'cpu')\n",
    "print(device)\n",
    "\n",
    "\n",
    "\n",
    "\n",
    "# create dataset\n",
    "f = lambda x: torch.sin(torch.pi*x[:])\n",
    "dataset = create_dataset(f, n_var=1, device=device)"
   ]
  },
  {
   "cell_type": "code",
   "execution_count": 105,
   "metadata": {},
   "outputs": [
    {
     "name": "stdout",
     "output_type": "stream",
     "text": [
      "checkpoint directory created: ./model\n",
      "saving model version 0.0\n"
     ]
    }
   ],
   "source": [
    "# initialize KAN with G=3\n",
    "model = KAN(width=[1,1], grid=3, k=3, seed=1, device=device)"
   ]
  },
  {
   "cell_type": "code",
   "execution_count": null,
   "metadata": {},
   "outputs": [],
   "source": []
  },
  {
   "cell_type": "code",
   "execution_count": 139,
   "metadata": {},
   "outputs": [
    {
     "data": {
      "text/plain": [
       "<bound method Module.parameters of MultKAN(\n",
       "  (act_fun): ModuleList(\n",
       "    (0): KANLayer(\n",
       "      (base_fun): SiLU()\n",
       "    )\n",
       "  )\n",
       "  (base_fun): SiLU()\n",
       "  (symbolic_fun): ModuleList(\n",
       "    (0): Symbolic_KANLayer()\n",
       "  )\n",
       ")>"
      ]
     },
     "execution_count": 139,
     "metadata": {},
     "output_type": "execute_result"
    }
   ],
   "source": [
    "model.parameters"
   ]
  },
  {
   "cell_type": "code",
   "execution_count": 59,
   "metadata": {},
   "outputs": [
    {
     "ename": "TypeError",
     "evalue": "'NoneType' object is not subscriptable",
     "output_type": "error",
     "traceback": [
      "\u001b[0;31m---------------------------------------------------------------------------\u001b[0m",
      "\u001b[0;31mTypeError\u001b[0m                                 Traceback (most recent call last)",
      "Cell \u001b[0;32mIn[59], line 1\u001b[0m\n\u001b[0;32m----> 1\u001b[0m \u001b[43mmodel\u001b[49m\u001b[38;5;241;43m.\u001b[39;49m\u001b[43mfix_symbolic\u001b[49m\u001b[43m(\u001b[49m\u001b[38;5;241;43m0\u001b[39;49m\u001b[43m,\u001b[49m\u001b[38;5;241;43m0\u001b[39;49m\u001b[43m,\u001b[49m\u001b[38;5;241;43m0\u001b[39;49m\u001b[43m,\u001b[49m\u001b[38;5;124;43m'\u001b[39;49m\u001b[38;5;124;43msin\u001b[39;49m\u001b[38;5;124;43m'\u001b[39;49m\u001b[43m)\u001b[49m\n",
      "File \u001b[0;32m~/.pyenv/versions/3.9.19/lib/python3.9/site-packages/kan/MultKAN.py:932\u001b[0m, in \u001b[0;36mMultKAN.fix_symbolic\u001b[0;34m(self, l, i, j, fun_name, fit_params_bool, a_range, b_range, verbose, random, log_history)\u001b[0m\n\u001b[1;32m    930\u001b[0m     r2 \u001b[38;5;241m=\u001b[39m \u001b[38;5;28;01mNone\u001b[39;00m\n\u001b[1;32m    931\u001b[0m \u001b[38;5;28;01melse\u001b[39;00m:\n\u001b[0;32m--> 932\u001b[0m     x \u001b[38;5;241m=\u001b[39m \u001b[38;5;28;43mself\u001b[39;49m\u001b[38;5;241;43m.\u001b[39;49m\u001b[43macts\u001b[49m\u001b[43m[\u001b[49m\u001b[43ml\u001b[49m\u001b[43m]\u001b[49m[:, i]\n\u001b[1;32m    933\u001b[0m     mask \u001b[38;5;241m=\u001b[39m \u001b[38;5;28mself\u001b[39m\u001b[38;5;241m.\u001b[39mact_fun[l]\u001b[38;5;241m.\u001b[39mmask\n\u001b[1;32m    934\u001b[0m     y \u001b[38;5;241m=\u001b[39m \u001b[38;5;28mself\u001b[39m\u001b[38;5;241m.\u001b[39mspline_postacts[l][:, j, i]\n",
      "\u001b[0;31mTypeError\u001b[0m: 'NoneType' object is not subscriptable"
     ]
    }
   ],
   "source": [
    "model.fix_symbolic(0,0,0,'sin')"
   ]
  },
  {
   "cell_type": "code",
   "execution_count": 51,
   "metadata": {},
   "outputs": [
    {
     "data": {
      "image/png": "[encoded data removed]",
      "text/plain": [
       "<Figure size 500x200 with 3 Axes>"
      ]
     },
     "metadata": {},
     "output_type": "display_data"
    }
   ],
   "source": [
    "model.plot()"
   ]
  },
  {
   "cell_type": "code",
   "execution_count": 55,
   "metadata": {},
   "outputs": [
    {
     "name": "stdout",
     "output_type": "stream",
     "text": [
      "  function  fitting r2    r2 loss  complexity  complexity loss  total loss\n",
      "0      sin    0.999896 -13.098551           2                2   -1.019710\n",
      "1      cos    0.999896 -13.097797           2                2   -1.019559\n",
      "2        0    0.000000   0.000014           0                0    0.000003\n",
      "3        x    0.604781  -1.339240           1                1    0.532152\n",
      "4      exp    0.604909  -1.339706           2                2    1.332059\n"
     ]
    },
    {
     "data": {
      "text/plain": [
       "('sin',\n",
       " (<function kan.utils.<lambda>(x)>,\n",
       "  <function kan.utils.<lambda>(x)>,\n",
       "  2,\n",
       "  <function kan.utils.<lambda>(x, y_th)>),\n",
       " 0.9998959898948669,\n",
       " 2)"
      ]
     },
     "execution_count": 55,
     "metadata": {},
     "output_type": "execute_result"
    }
   ],
   "source": [
    "model.suggest_symbolic(0,0,0)"
   ]
  },
  {
   "cell_type": "code",
   "execution_count": 56,
   "metadata": {},
   "outputs": [
    {
     "name": "stdout",
     "output_type": "stream",
     "text": [
      "r2 is 0.9998959898948669\n",
      "saving model version 0.2\n"
     ]
    },
    {
     "name": "stderr",
     "output_type": "stream",
     "text": [
      "| train_loss: 7.49e-11 | test_loss: 9.14e-11 | reg: 0.00e+00 | : 100%|█| 200/200 [00:01<00:00, 124.8\n"
     ]
    },
    {
     "name": "stdout",
     "output_type": "stream",
     "text": [
      "saving model version 0.3\n"
     ]
    }
   ],
   "source": [
    "model.fit(dataset, opt=\"LBFGS\", steps=200);\n"
   ]
  },
  {
   "cell_type": "code",
   "execution_count": 38,
   "metadata": {},
   "outputs": [
    {
     "name": "stdout",
     "output_type": "stream",
     "text": [
      "saving model version 0.2\n"
     ]
    },
    {
     "name": "stderr",
     "output_type": "stream",
     "text": [
      "| train_loss: 5.95e-01 | test_loss: 6.20e-01 | reg: 5.60e+00 | : 100%|█| 20/20 [00:01<00:00, 11.51it"
     ]
    },
    {
     "name": "stdout",
     "output_type": "stream",
     "text": [
      "saving model version 0.3\n"
     ]
    },
    {
     "name": "stderr",
     "output_type": "stream",
     "text": [
      "\n"
     ]
    }
   ],
   "source": [
    "model = model.refine(10)\n",
    "model.fit(dataset, opt=\"LBFGS\", steps=20);"
   ]
  },
  {
   "cell_type": "code",
   "execution_count": 7,
   "metadata": {},
   "outputs": [],
   "source": [
    "x=torch.arange(-10,10,.1)"
   ]
  },
  {
   "cell_type": "code",
   "execution_count": 117,
   "metadata": {},
   "outputs": [],
   "source": [
    "import torch.optim as optim"
   ]
  },
  {
   "cell_type": "code",
   "execution_count": 123,
   "metadata": {},
   "outputs": [
    {
     "name": "stderr",
     "output_type": "stream",
     "text": [
      "/Users/justinas/.pyenv/versions/3.9.19/lib/python3.9/site-packages/kan/MultKAN.py:798: UserWarning: std(): degrees of freedom is <= 0. Correction should be strictly less than the reduction factor (input numel divided by output numel). (Triggered internally at /Users/runner/work/pytorch/pytorch/pytorch/aten/src/ATen/native/ReduceOps.cpp:1760.)\n",
      "  self.subnode_actscale.append(torch.std(x, dim=0).detach())\n",
      "/Users/justinas/.pyenv/versions/3.9.19/lib/python3.9/site-packages/kan/MultKAN.py:808: UserWarning: std(): degrees of freedom is <= 0. Correction should be strictly less than the reduction factor (input numel divided by output numel). (Triggered internally at /Users/runner/work/pytorch/pytorch/pytorch/aten/src/ATen/native/ReduceOps.cpp:1760.)\n",
      "  input_range = torch.std(preacts, dim=0) + 0.1\n",
      "/Users/justinas/.pyenv/versions/3.9.19/lib/python3.9/site-packages/kan/MultKAN.py:809: UserWarning: std(): degrees of freedom is <= 0. Correction should be strictly less than the reduction factor (input numel divided by output numel). (Triggered internally at /Users/runner/work/pytorch/pytorch/pytorch/aten/src/ATen/native/ReduceOps.cpp:1760.)\n",
      "  output_range_spline = torch.std(postacts_numerical, dim=0) # for training, only penalize the spline part\n",
      "/Users/justinas/.pyenv/versions/3.9.19/lib/python3.9/site-packages/kan/MultKAN.py:810: UserWarning: std(): degrees of freedom is <= 0. Correction should be strictly less than the reduction factor (input numel divided by output numel). (Triggered internally at /Users/runner/work/pytorch/pytorch/pytorch/aten/src/ATen/native/ReduceOps.cpp:1760.)\n",
      "  output_range = torch.std(postacts, dim=0) # for visualization, include the contribution from both spline + symbolic\n"
     ]
    },
    {
     "data": {
      "text/plain": [
       "tensor([[-0.6628]], grad_fn=<AddBackward0>)"
      ]
     },
     "execution_count": 123,
     "metadata": {},
     "output_type": "execute_result"
    }
   ],
   "source": [
    "model(torch.tensor([[1.]]))"
   ]
  },
  {
   "cell_type": "code",
   "execution_count": 221,
   "metadata": {},
   "outputs": [
    {
     "name": "stdout",
     "output_type": "stream",
     "text": [
      "checkpoint directory created: ./model\n",
      "saving model version 0.0\n"
     ]
    }
   ],
   "source": [
    "model = KAN(width=[1,3,1], grid=3, k=3, seed=1, device=device)\n",
    "grad_network=GradNetwork(model)"
   ]
  },
  {
   "cell_type": "code",
   "execution_count": 199,
   "metadata": {},
   "outputs": [
    {
     "name": "stdout",
     "output_type": "stream",
     "text": [
      "r2 is 0.8584908843040466\n",
      "r2 is not very high, please double check if you are choosing the correct symbolic function.\n",
      "saving model version 0.1\n"
     ]
    },
    {
     "data": {
      "text/plain": [
       "tensor(0.8585, grad_fn=<SelectBackward0>)"
      ]
     },
     "execution_count": 199,
     "metadata": {},
     "output_type": "execute_result"
    }
   ],
   "source": [
    "model.fix_symbolic(0,0,0,'sin')"
   ]
  },
  {
   "cell_type": "code",
   "execution_count": 210,
   "metadata": {},
   "outputs": [
    {
     "name": "stdout",
     "output_type": "stream",
     "text": [
      "saving model version 0.1\n"
     ]
    },
    {
     "data": {
      "text/plain": [
       "MultKAN(\n",
       "  (act_fun): ModuleList(\n",
       "    (0): KANLayer(\n",
       "      (base_fun): SiLU()\n",
       "    )\n",
       "  )\n",
       "  (base_fun): SiLU()\n",
       "  (symbolic_fun): ModuleList(\n",
       "    (0): Symbolic_KANLayer()\n",
       "  )\n",
       ")"
      ]
     },
     "execution_count": 210,
     "metadata": {},
     "output_type": "execute_result"
    }
   ],
   "source": [
    "model.refine(20)"
   ]
  },
  {
   "cell_type": "code",
   "execution_count": 159,
   "metadata": {},
   "outputs": [],
   "source": [
    "grad_network=GradNetwork(model)"
   ]
  },
  {
   "cell_type": "code",
   "execution_count": 231,
   "metadata": {},
   "outputs": [
    {
     "name": "stderr",
     "output_type": "stream",
     "text": [
      "/Users/justinas/.pyenv/versions/3.9.19/lib/python3.9/site-packages/kan/MultKAN.py:798: UserWarning: std(): degrees of freedom is <= 0. Correction should be strictly less than the reduction factor (input numel divided by output numel). (Triggered internally at /Users/runner/work/pytorch/pytorch/pytorch/aten/src/ATen/native/ReduceOps.cpp:1760.)\n",
      "  self.subnode_actscale.append(torch.std(x, dim=0).detach())\n",
      "/Users/justinas/.pyenv/versions/3.9.19/lib/python3.9/site-packages/kan/MultKAN.py:808: UserWarning: std(): degrees of freedom is <= 0. Correction should be strictly less than the reduction factor (input numel divided by output numel). (Triggered internally at /Users/runner/work/pytorch/pytorch/pytorch/aten/src/ATen/native/ReduceOps.cpp:1760.)\n",
      "  input_range = torch.std(preacts, dim=0) + 0.1\n",
      "/Users/justinas/.pyenv/versions/3.9.19/lib/python3.9/site-packages/kan/MultKAN.py:809: UserWarning: std(): degrees of freedom is <= 0. Correction should be strictly less than the reduction factor (input numel divided by output numel). (Triggered internally at /Users/runner/work/pytorch/pytorch/pytorch/aten/src/ATen/native/ReduceOps.cpp:1760.)\n",
      "  output_range_spline = torch.std(postacts_numerical, dim=0) # for training, only penalize the spline part\n",
      "/Users/justinas/.pyenv/versions/3.9.19/lib/python3.9/site-packages/kan/MultKAN.py:810: UserWarning: std(): degrees of freedom is <= 0. Correction should be strictly less than the reduction factor (input numel divided by output numel). (Triggered internally at /Users/runner/work/pytorch/pytorch/pytorch/aten/src/ATen/native/ReduceOps.cpp:1760.)\n",
      "  output_range = torch.std(postacts, dim=0) # for visualization, include the contribution from both spline + symbolic\n"
     ]
    },
    {
     "data": {
      "text/plain": [
       "tensor([[-0.9466]], grad_fn=<AddBackward0>)"
      ]
     },
     "execution_count": 231,
     "metadata": {},
     "output_type": "execute_result"
    }
   ],
   "source": [
    "model(torch.tensor([[0.]]))"
   ]
  },
  {
   "cell_type": "code",
   "execution_count": 238,
   "metadata": {},
   "outputs": [
    {
     "data": {
      "text/plain": [
       "tensor([[-1.0885e+00],\n",
       "        [-1.1448e+00],\n",
       "        [-1.2021e+00],\n",
       "        [-1.2598e+00],\n",
       "        [-1.3174e+00],\n",
       "        [-1.3742e+00],\n",
       "        [-1.4297e+00],\n",
       "        [-1.4834e+00],\n",
       "        [-1.5348e+00],\n",
       "        [-1.5835e+00],\n",
       "        [-1.6291e+00],\n",
       "        [-1.6714e+00],\n",
       "        [-1.7106e+00],\n",
       "        [-1.7471e+00],\n",
       "        [-1.7813e+00],\n",
       "        [-1.8131e+00],\n",
       "        [-1.8422e+00],\n",
       "        [-1.8682e+00],\n",
       "        [-1.8906e+00],\n",
       "        [-1.9093e+00],\n",
       "        [-1.9239e+00],\n",
       "        [-1.9347e+00],\n",
       "        [-1.9418e+00],\n",
       "        [-1.9453e+00],\n",
       "        [-1.9455e+00],\n",
       "        [-1.9424e+00],\n",
       "        [-1.9360e+00],\n",
       "        [-1.9259e+00],\n",
       "        [-1.9121e+00],\n",
       "        [-1.8943e+00],\n",
       "        [-1.8726e+00],\n",
       "        [-1.8472e+00],\n",
       "        [-1.8184e+00],\n",
       "        [-1.7867e+00],\n",
       "        [-1.7530e+00],\n",
       "        [-1.7167e+00],\n",
       "        [-1.6774e+00],\n",
       "        [-1.6350e+00],\n",
       "        [-1.5894e+00],\n",
       "        [-1.5410e+00],\n",
       "        [-1.4903e+00],\n",
       "        [-1.4381e+00],\n",
       "        [-1.3847e+00],\n",
       "        [-1.3304e+00],\n",
       "        [-1.2748e+00],\n",
       "        [-1.2169e+00],\n",
       "        [-1.1572e+00],\n",
       "        [-1.0967e+00],\n",
       "        [-1.0366e+00],\n",
       "        [-9.7663e-01],\n",
       "        [-9.1649e-01],\n",
       "        [-8.5616e-01],\n",
       "        [-7.9591e-01],\n",
       "        [-7.3620e-01],\n",
       "        [-6.7742e-01],\n",
       "        [-6.1957e-01],\n",
       "        [-5.6265e-01],\n",
       "        [-5.0714e-01],\n",
       "        [-4.5348e-01],\n",
       "        [-4.0191e-01],\n",
       "        [-3.5244e-01],\n",
       "        [-3.0491e-01],\n",
       "        [-2.5928e-01],\n",
       "        [-2.1652e-01],\n",
       "        [-1.7697e-01],\n",
       "        [-1.3960e-01],\n",
       "        [-1.0485e-01],\n",
       "        [-7.3576e-02],\n",
       "        [-4.5748e-02],\n",
       "        [-2.1250e-02],\n",
       "        [-7.4625e-05],\n",
       "        [ 1.7716e-02],\n",
       "        [ 3.2032e-02],\n",
       "        [ 4.2770e-02],\n",
       "        [ 4.9776e-02],\n",
       "        [ 5.2914e-02],\n",
       "        [ 5.2668e-02],\n",
       "        [ 4.9212e-02],\n",
       "        [ 4.1708e-02],\n",
       "        [ 2.9957e-02],\n",
       "        [ 1.4729e-02],\n",
       "        [-3.6590e-03],\n",
       "        [-2.5221e-02],\n",
       "        [-5.0126e-02],\n",
       "        [-7.8533e-02],\n",
       "        [-1.1042e-01],\n",
       "        [-1.4542e-01],\n",
       "        [-1.8302e-01],\n",
       "        [-2.2344e-01],\n",
       "        [-2.6646e-01],\n",
       "        [-3.1216e-01],\n",
       "        [-3.6030e-01],\n",
       "        [-4.1059e-01],\n",
       "        [-4.6276e-01],\n",
       "        [-5.1663e-01],\n",
       "        [-5.7201e-01],\n",
       "        [-6.2875e-01],\n",
       "        [-6.8670e-01],\n",
       "        [-7.4567e-01],\n",
       "        [-8.0545e-01]])"
      ]
     },
     "execution_count": 238,
     "metadata": {},
     "output_type": "execute_result"
    }
   ],
   "source": [
    "model(x_test).detach()"
   ]
  },
  {
   "cell_type": "code",
   "execution_count": 235,
   "metadata": {},
   "outputs": [
    {
     "data": {
      "text/plain": [
       "tensor([[-0.9466]], grad_fn=<AddBackward0>)"
      ]
     },
     "execution_count": 235,
     "metadata": {},
     "output_type": "execute_result"
    }
   ],
   "source": [
    "model(torch.tensor([[0.]]))"
   ]
  },
  {
   "cell_type": "code",
   "execution_count": 232,
   "metadata": {},
   "outputs": [
    {
     "name": "stderr",
     "output_type": "stream",
     "text": [
      "/Users/justinas/.pyenv/versions/3.9.19/lib/python3.9/site-packages/kan/MultKAN.py:798: UserWarning: std(): degrees of freedom is <= 0. Correction should be strictly less than the reduction factor (input numel divided by output numel). (Triggered internally at /Users/runner/work/pytorch/pytorch/pytorch/aten/src/ATen/native/ReduceOps.cpp:1760.)\n",
      "  self.subnode_actscale.append(torch.std(x, dim=0).detach())\n",
      "/Users/justinas/.pyenv/versions/3.9.19/lib/python3.9/site-packages/kan/MultKAN.py:808: UserWarning: std(): degrees of freedom is <= 0. Correction should be strictly less than the reduction factor (input numel divided by output numel). (Triggered internally at /Users/runner/work/pytorch/pytorch/pytorch/aten/src/ATen/native/ReduceOps.cpp:1760.)\n",
      "  input_range = torch.std(preacts, dim=0) + 0.1\n",
      "/Users/justinas/.pyenv/versions/3.9.19/lib/python3.9/site-packages/kan/MultKAN.py:809: UserWarning: std(): degrees of freedom is <= 0. Correction should be strictly less than the reduction factor (input numel divided by output numel). (Triggered internally at /Users/runner/work/pytorch/pytorch/pytorch/aten/src/ATen/native/ReduceOps.cpp:1760.)\n",
      "  output_range_spline = torch.std(postacts_numerical, dim=0) # for training, only penalize the spline part\n",
      "/Users/justinas/.pyenv/versions/3.9.19/lib/python3.9/site-packages/kan/MultKAN.py:810: UserWarning: std(): degrees of freedom is <= 0. Correction should be strictly less than the reduction factor (input numel divided by output numel). (Triggered internally at /Users/runner/work/pytorch/pytorch/pytorch/aten/src/ATen/native/ReduceOps.cpp:1760.)\n",
      "  output_range = torch.std(postacts, dim=0) # for visualization, include the contribution from both spline + symbolic\n"
     ]
    },
    {
     "data": {
      "text/plain": [
       "tensor([[-0.1419],\n",
       "        [-0.1983],\n",
       "        [-0.2555],\n",
       "        [-0.3132],\n",
       "        [-0.3708],\n",
       "        [-0.4276],\n",
       "        [-0.4831],\n",
       "        [-0.5368],\n",
       "        [-0.5882],\n",
       "        [-0.6369],\n",
       "        [-0.6825],\n",
       "        [-0.7248],\n",
       "        [-0.7640],\n",
       "        [-0.8005],\n",
       "        [-0.8347],\n",
       "        [-0.8665],\n",
       "        [-0.8956],\n",
       "        [-0.9216],\n",
       "        [-0.9440],\n",
       "        [-0.9627],\n",
       "        [-0.9774],\n",
       "        [-0.9882],\n",
       "        [-0.9952],\n",
       "        [-0.9987],\n",
       "        [-0.9989],\n",
       "        [-0.9959],\n",
       "        [-0.9894],\n",
       "        [-0.9793],\n",
       "        [-0.9655],\n",
       "        [-0.9477],\n",
       "        [-0.9260],\n",
       "        [-0.9006],\n",
       "        [-0.8718],\n",
       "        [-0.8401],\n",
       "        [-0.8064],\n",
       "        [-0.7701],\n",
       "        [-0.7308],\n",
       "        [-0.6884],\n",
       "        [-0.6428],\n",
       "        [-0.5944],\n",
       "        [-0.5438],\n",
       "        [-0.4915],\n",
       "        [-0.4381],\n",
       "        [-0.3838],\n",
       "        [-0.3282],\n",
       "        [-0.2703],\n",
       "        [-0.2107],\n",
       "        [-0.1502],\n",
       "        [-0.0900],\n",
       "        [-0.0300],\n",
       "        [ 0.0301],\n",
       "        [ 0.0904],\n",
       "        [ 0.1507],\n",
       "        [ 0.2104],\n",
       "        [ 0.2692],\n",
       "        [ 0.3270],\n",
       "        [ 0.3839],\n",
       "        [ 0.4394],\n",
       "        [ 0.4931],\n",
       "        [ 0.5447],\n",
       "        [ 0.5941],\n",
       "        [ 0.6417],\n",
       "        [ 0.6873],\n",
       "        [ 0.7301],\n",
       "        [ 0.7696],\n",
       "        [ 0.8070],\n",
       "        [ 0.8417],\n",
       "        [ 0.8730],\n",
       "        [ 0.9008],\n",
       "        [ 0.9253],\n",
       "        [ 0.9465],\n",
       "        [ 0.9643],\n",
       "        [ 0.9786],\n",
       "        [ 0.9894],\n",
       "        [ 0.9964],\n",
       "        [ 0.9995],\n",
       "        [ 0.9993],\n",
       "        [ 0.9958],\n",
       "        [ 0.9883],\n",
       "        [ 0.9765],\n",
       "        [ 0.9613],\n",
       "        [ 0.9429],\n",
       "        [ 0.9214],\n",
       "        [ 0.8965],\n",
       "        [ 0.8681],\n",
       "        [ 0.8362],\n",
       "        [ 0.8012],\n",
       "        [ 0.7636],\n",
       "        [ 0.7231],\n",
       "        [ 0.6801],\n",
       "        [ 0.6344],\n",
       "        [ 0.5863],\n",
       "        [ 0.5360],\n",
       "        [ 0.4838],\n",
       "        [ 0.4300],\n",
       "        [ 0.3746],\n",
       "        [ 0.3178],\n",
       "        [ 0.2599],\n",
       "        [ 0.2009],\n",
       "        [ 0.1411]], grad_fn=<SubBackward0>)"
      ]
     },
     "execution_count": 232,
     "metadata": {},
     "output_type": "execute_result"
    }
   ],
   "source": [
    "model(x_test).detach()-model(torch.tensor([[0.]]))"
   ]
  },
  {
   "cell_type": "code",
   "execution_count": 244,
   "metadata": {},
   "outputs": [
    {
     "name": "stdout",
     "output_type": "stream",
     "text": [
      "Epoch [100/1000], Loss: 0.0014\n",
      "Epoch [200/1000], Loss: 0.0011\n",
      "Epoch [300/1000], Loss: 0.0009\n",
      "Epoch [400/1000], Loss: 0.0005\n",
      "Epoch [500/1000], Loss: 0.0003\n",
      "Epoch [600/1000], Loss: 0.0001\n",
      "Epoch [700/1000], Loss: 0.0001\n",
      "Epoch [800/1000], Loss: 0.0001\n",
      "Epoch [900/1000], Loss: 0.0001\n",
      "Epoch [1000/1000], Loss: 0.0001\n"
     ]
    }
   ],
   "source": [
    "# Define the true function we want to fit the gradient network to\n",
    "def true_function(x):\n",
    "    return torch.sin(x)**2\n",
    "\n",
    "# Create a dataset to fit\n",
    "x_train = torch.linspace(-3, 3, 1000).unsqueeze(1)  # 100 points from -5 to 5\n",
    "true_grad =  true_function(x_train)\n",
    "\n",
    "# Set up the optimizer and loss function\n",
    "optimizer = optim.Adam(grad_network.parameters(), lr=0.01)\n",
    "criterion = nn.MSELoss()\n",
    "\n",
    "# Training loop\n",
    "n_epochs = 1000\n",
    "for epoch in range(n_epochs):\n",
    "    # Zero the gradients\n",
    "    optimizer.zero_grad()\n",
    "    \n",
    "    # Forward pass through grad network\n",
    "    x_train.requires_grad_(True)\n",
    "    grad_output = grad_network(x_train)\n",
    "    \n",
    "    # Compute loss\n",
    "    loss = criterion(grad_output, true_grad)\n",
    "    \n",
    "    # Backward pass\n",
    "    loss.backward()\n",
    "    \n",
    "    # Update parameters\n",
    "    optimizer.step()\n",
    "    \n",
    "    # Print loss occasionally\n",
    "    if (epoch + 1) % 100 == 0:\n",
    "        print(f'Epoch [{epoch+1}/{n_epochs}], Loss: {loss.item():.4f}')\n",
    "\n"
   ]
  },
  {
   "cell_type": "code",
   "execution_count": 245,
   "metadata": {},
   "outputs": [
    {
     "data": {
      "image/png": "[encoded data removed]",
      "text/plain": [
       "<Figure size 640x480 with 1 Axes>"
      ]
     },
     "metadata": {},
     "output_type": "display_data"
    }
   ],
   "source": [
    "# Plot the results\n",
    "x_test = torch.linspace(-3, 3, 100).unsqueeze(1)\n",
    "x_test.requires_grad_(True)\n",
    "grad_output_test = grad_network(x_test).detach()\n",
    "model_output_test = model(x_test).detach()-model(torch.tensor([[0.]]))\n",
    "\n",
    "plt.plot(x_train.detach().numpy(), true_grad.detach().numpy(), label='True Gradient', color='blue')\n",
    "plt.plot(x_test.detach().numpy(), grad_output_test.detach().numpy(), label='Gradient model', color='red', linestyle='dashed')\n",
    "plt.plot(x_test.detach().numpy(), model_output_test.detach().numpy(), label='Integral model', color='black', linestyle='dashed')\n",
    "plt.xlabel('x')\n",
    "plt.ylabel('Gradient')\n",
    "plt.legend()\n",
    "plt.title('Fitting GradNetwork to True Gradient')\n",
    "plt.show()"
   ]
  },
  {
   "cell_type": "code",
   "execution_count": 246,
   "metadata": {},
   "outputs": [
    {
     "data": {
      "image/png": "[encoded data removed]",
      "text/latex": [
       "$\\displaystyle 8$"
      ],
      "text/plain": [
       "8"
      ]
     },
     "execution_count": 246,
     "metadata": {},
     "output_type": "execute_result"
    }
   ],
   "source": [
    "from os import cpu_count\n",
    "\n",
    "cpu_count()"
   ]
  },
  {
   "cell_type": "code",
   "execution_count": 192,
   "metadata": {},
   "outputs": [
    {
     "name": "stdout",
     "output_type": "stream",
     "text": [
      "Gradients with respect to x: tensor([[-0.0865],\n",
      "        [-0.0172],\n",
      "        [-0.0127],\n",
      "        [-0.0043],\n",
      "        [-0.0488]])\n"
     ]
    }
   ],
   "source": [
    "import torch\n",
    "import torch.nn as nn\n",
    "import torch.autograd as autograd\n",
    "\n",
    "# Define the original integral network, Phi_theta(x)\n",
    "class IntegralNetwork(nn.Module):\n",
    "    def __init__(self):\n",
    "        super(IntegralNetwork, self).__init__()\n",
    "        self.layer1 = nn.Linear(1, 20)  # Example input and hidden layer size\n",
    "        self.non_linearity1 = nn.Tanh()\n",
    "        self.layer2 = nn.Linear(20, 10)\n",
    "        self.non_linearity2 = nn.ReLU()\n",
    "        self.output_layer = nn.Linear(10, 1)\n",
    "        \n",
    "    def forward(self, x):\n",
    "        x = self.non_linearity1(self.layer1(x))\n",
    "        x = self.non_linearity2(self.layer2(x))\n",
    "        x = self.output_layer(x)\n",
    "        return x\n",
    "\n",
    "# Instantiate the integral network\n",
    "phi_theta = IntegralNetwork()\n",
    "\n",
    "# Define a function that builds the gradient network in a differentiable manner\n",
    "class GradNetwork(nn.Module):\n",
    "    def __init__(self, base_network):\n",
    "        super(GradNetwork, self).__init__()\n",
    "        self.base_network = base_network\n",
    "\n",
    "    def forward(self, x, idx=0):\n",
    "        # Compute the output of the original network\n",
    "        output = self.base_network(x)\n",
    "        \n",
    "        # Compute the gradient of the output with respect to input feature x[idx]\n",
    "        grad_outputs = torch.ones_like(output)\n",
    "        gradient = autograd.grad(\n",
    "            outputs=output,\n",
    "            inputs=x,\n",
    "            grad_outputs=grad_outputs,\n",
    "            create_graph=True,  # Important for allowing second-order gradients\n",
    "            retain_graph=True  # Keep graph for further operations\n",
    "        )[0]\n",
    "        \n",
    "        # Extract the gradient with respect to the specified dimension\n",
    "        grad_i = gradient[:, idx].unsqueeze(1)  # Assuming batch size and extracting the i-th dimension\n",
    "        \n",
    "        return grad_i\n",
    "\n",
    "# Instantiate the gradient network\n",
    "grad_network = GradNetwork(phi_theta)\n",
    "\n",
    "# Example usage\n",
    "# Create an example input tensor\n",
    "x = torch.randn(5, 1, requires_grad=True)  # Batch size of 5, input dimension of 10\n",
    "\n",
    "# Calculate gradient network output for index i = 2\n",
    "i = 0\n",
    "grad_i_output = grad_network(x, i)\n",
    "\n",
    "# Perform a backward pass through the grad network\n",
    "loss = grad_i_output.sum()  # Example loss that depends on the gradient output\n",
    "loss.backward()\n",
    "\n",
    "# Print gradients with respect to input x\n",
    "print(\"Gradients with respect to x:\", x.grad)\n"
   ]
  },
  {
   "cell_type": "code",
   "execution_count": 114,
   "metadata": {},
   "outputs": [],
   "source": [
    "grad_network = GradNetwork(model)"
   ]
  },
  {
   "cell_type": "code",
   "execution_count": 115,
   "metadata": {},
   "outputs": [
    {
     "name": "stdout",
     "output_type": "stream",
     "text": [
      "Gradients with respect to x: tensor([[-0.6535],\n",
      "        [-0.1991],\n",
      "        [-0.1486],\n",
      "        [-0.4705],\n",
      "        [-0.5387]])\n"
     ]
    }
   ],
   "source": [
    "x = torch.randn(5, 1, requires_grad=True)  # Batch size of 5, input dimension of 10\n",
    "\n",
    "# Calculate gradient network output for index i = 2\n",
    "i = 0\n",
    "grad_i_output = grad_network(x, i)\n",
    "\n",
    "# Perform a backward pass through the grad network\n",
    "loss = grad_i_output.sum()  # Example loss that depends on the gradient output\n",
    "loss.backward()\n",
    "\n",
    "# Print gradients with respect to input x\n",
    "print(\"Gradients with respect to x:\", x.grad)"
   ]
  },
  {
   "cell_type": "code",
   "execution_count": 164,
   "metadata": {},
   "outputs": [],
   "source": [
    "x = torch.randn(1,1, requires_grad=True)"
   ]
  },
  {
   "cell_type": "code",
   "execution_count": 112,
   "metadata": {},
   "outputs": [
    {
     "name": "stderr",
     "output_type": "stream",
     "text": [
      "/Users/justinas/.pyenv/versions/3.9.19/lib/python3.9/site-packages/kan/MultKAN.py:798: UserWarning: std(): degrees of freedom is <= 0. Correction should be strictly less than the reduction factor (input numel divided by output numel). (Triggered internally at /Users/runner/work/pytorch/pytorch/pytorch/aten/src/ATen/native/ReduceOps.cpp:1760.)\n",
      "  self.subnode_actscale.append(torch.std(x, dim=0).detach())\n",
      "/Users/justinas/.pyenv/versions/3.9.19/lib/python3.9/site-packages/kan/MultKAN.py:808: UserWarning: std(): degrees of freedom is <= 0. Correction should be strictly less than the reduction factor (input numel divided by output numel). (Triggered internally at /Users/runner/work/pytorch/pytorch/pytorch/aten/src/ATen/native/ReduceOps.cpp:1760.)\n",
      "  input_range = torch.std(preacts, dim=0) + 0.1\n",
      "/Users/justinas/.pyenv/versions/3.9.19/lib/python3.9/site-packages/kan/MultKAN.py:809: UserWarning: std(): degrees of freedom is <= 0. Correction should be strictly less than the reduction factor (input numel divided by output numel). (Triggered internally at /Users/runner/work/pytorch/pytorch/pytorch/aten/src/ATen/native/ReduceOps.cpp:1760.)\n",
      "  output_range_spline = torch.std(postacts_numerical, dim=0) # for training, only penalize the spline part\n",
      "/Users/justinas/.pyenv/versions/3.9.19/lib/python3.9/site-packages/kan/MultKAN.py:810: UserWarning: std(): degrees of freedom is <= 0. Correction should be strictly less than the reduction factor (input numel divided by output numel). (Triggered internally at /Users/runner/work/pytorch/pytorch/pytorch/aten/src/ATen/native/ReduceOps.cpp:1760.)\n",
      "  output_range = torch.std(postacts, dim=0) # for visualization, include the contribution from both spline + symbolic\n"
     ]
    },
    {
     "data": {
      "text/plain": [
       "tensor([[-0.1017]], grad_fn=<AddBackward0>)"
      ]
     },
     "execution_count": 112,
     "metadata": {},
     "output_type": "execute_result"
    }
   ],
   "source": [
    "model(x)"
   ]
  },
  {
   "cell_type": "code",
   "execution_count": 113,
   "metadata": {},
   "outputs": [
    {
     "data": {
      "text/plain": [
       "tensor([[[[-0.3172]]]])"
      ]
     },
     "execution_count": 113,
     "metadata": {},
     "output_type": "execute_result"
    }
   ],
   "source": [
    "torch.autograd.functional.hessian(model,x,False)\n"
   ]
  },
  {
   "cell_type": "code",
   "execution_count": 162,
   "metadata": {},
   "outputs": [
    {
     "data": {
      "text/plain": [
       "tensor([[-185.9069],\n",
       "        [-182.0112],\n",
       "        [-184.5193],\n",
       "        [-185.7324],\n",
       "        [-185.8689]], grad_fn=<AddmmBackward0>)"
      ]
     },
     "execution_count": 162,
     "metadata": {},
     "output_type": "execute_result"
    }
   ],
   "source": [
    "phi_theta(x)"
   ]
  },
  {
   "cell_type": "code",
   "execution_count": 165,
   "metadata": {},
   "outputs": [],
   "source": [
    "phi_theta(x).backward(retain_graph=True)\n",
    "grad=x.grad\n",
    "#grad.backward(retain_graph=True)\n"
   ]
  },
  {
   "cell_type": "code",
   "execution_count": 167,
   "metadata": {},
   "outputs": [
    {
     "ename": "RuntimeError",
     "evalue": "element 0 of tensors does not require grad and does not have a grad_fn",
     "output_type": "error",
     "traceback": [
      "\u001b[0;31m---------------------------------------------------------------------------\u001b[0m",
      "\u001b[0;31mRuntimeError\u001b[0m                              Traceback (most recent call last)",
      "Cell \u001b[0;32mIn[167], line 2\u001b[0m\n\u001b[1;32m      1\u001b[0m loss\u001b[38;5;241m=\u001b[39mgrad\n\u001b[0;32m----> 2\u001b[0m \u001b[43mloss\u001b[49m\u001b[38;5;241;43m.\u001b[39;49m\u001b[43mbackward\u001b[49m\u001b[43m(\u001b[49m\u001b[43m)\u001b[49m\n",
      "File \u001b[0;32m~/.pyenv/versions/3.9.19/lib/python3.9/site-packages/torch/_tensor.py:522\u001b[0m, in \u001b[0;36mTensor.backward\u001b[0;34m(self, gradient, retain_graph, create_graph, inputs)\u001b[0m\n\u001b[1;32m    512\u001b[0m \u001b[38;5;28;01mif\u001b[39;00m has_torch_function_unary(\u001b[38;5;28mself\u001b[39m):\n\u001b[1;32m    513\u001b[0m     \u001b[38;5;28;01mreturn\u001b[39;00m handle_torch_function(\n\u001b[1;32m    514\u001b[0m         Tensor\u001b[38;5;241m.\u001b[39mbackward,\n\u001b[1;32m    515\u001b[0m         (\u001b[38;5;28mself\u001b[39m,),\n\u001b[0;32m   (...)\u001b[0m\n\u001b[1;32m    520\u001b[0m         inputs\u001b[38;5;241m=\u001b[39minputs,\n\u001b[1;32m    521\u001b[0m     )\n\u001b[0;32m--> 522\u001b[0m \u001b[43mtorch\u001b[49m\u001b[38;5;241;43m.\u001b[39;49m\u001b[43mautograd\u001b[49m\u001b[38;5;241;43m.\u001b[39;49m\u001b[43mbackward\u001b[49m\u001b[43m(\u001b[49m\n\u001b[1;32m    523\u001b[0m \u001b[43m    \u001b[49m\u001b[38;5;28;43mself\u001b[39;49m\u001b[43m,\u001b[49m\u001b[43m \u001b[49m\u001b[43mgradient\u001b[49m\u001b[43m,\u001b[49m\u001b[43m \u001b[49m\u001b[43mretain_graph\u001b[49m\u001b[43m,\u001b[49m\u001b[43m \u001b[49m\u001b[43mcreate_graph\u001b[49m\u001b[43m,\u001b[49m\u001b[43m \u001b[49m\u001b[43minputs\u001b[49m\u001b[38;5;241;43m=\u001b[39;49m\u001b[43minputs\u001b[49m\n\u001b[1;32m    524\u001b[0m \u001b[43m\u001b[49m\u001b[43m)\u001b[49m\n",
      "File \u001b[0;32m~/.pyenv/versions/3.9.19/lib/python3.9/site-packages/torch/autograd/__init__.py:266\u001b[0m, in \u001b[0;36mbackward\u001b[0;34m(tensors, grad_tensors, retain_graph, create_graph, grad_variables, inputs)\u001b[0m\n\u001b[1;32m    261\u001b[0m     retain_graph \u001b[38;5;241m=\u001b[39m create_graph\n\u001b[1;32m    263\u001b[0m \u001b[38;5;66;03m# The reason we repeat the same comment below is that\u001b[39;00m\n\u001b[1;32m    264\u001b[0m \u001b[38;5;66;03m# some Python versions print out the first line of a multi-line function\u001b[39;00m\n\u001b[1;32m    265\u001b[0m \u001b[38;5;66;03m# calls in the traceback and some print out the last line\u001b[39;00m\n\u001b[0;32m--> 266\u001b[0m \u001b[43mVariable\u001b[49m\u001b[38;5;241;43m.\u001b[39;49m\u001b[43m_execution_engine\u001b[49m\u001b[38;5;241;43m.\u001b[39;49m\u001b[43mrun_backward\u001b[49m\u001b[43m(\u001b[49m\u001b[43m  \u001b[49m\u001b[38;5;66;43;03m# Calls into the C++ engine to run the backward pass\u001b[39;49;00m\n\u001b[1;32m    267\u001b[0m \u001b[43m    \u001b[49m\u001b[43mtensors\u001b[49m\u001b[43m,\u001b[49m\n\u001b[1;32m    268\u001b[0m \u001b[43m    \u001b[49m\u001b[43mgrad_tensors_\u001b[49m\u001b[43m,\u001b[49m\n\u001b[1;32m    269\u001b[0m \u001b[43m    \u001b[49m\u001b[43mretain_graph\u001b[49m\u001b[43m,\u001b[49m\n\u001b[1;32m    270\u001b[0m \u001b[43m    \u001b[49m\u001b[43mcreate_graph\u001b[49m\u001b[43m,\u001b[49m\n\u001b[1;32m    271\u001b[0m \u001b[43m    \u001b[49m\u001b[43minputs\u001b[49m\u001b[43m,\u001b[49m\n\u001b[1;32m    272\u001b[0m \u001b[43m    \u001b[49m\u001b[43mallow_unreachable\u001b[49m\u001b[38;5;241;43m=\u001b[39;49m\u001b[38;5;28;43;01mTrue\u001b[39;49;00m\u001b[43m,\u001b[49m\n\u001b[1;32m    273\u001b[0m \u001b[43m    \u001b[49m\u001b[43maccumulate_grad\u001b[49m\u001b[38;5;241;43m=\u001b[39;49m\u001b[38;5;28;43;01mTrue\u001b[39;49;00m\u001b[43m,\u001b[49m\n\u001b[1;32m    274\u001b[0m \u001b[43m\u001b[49m\u001b[43m)\u001b[49m\n",
      "\u001b[0;31mRuntimeError\u001b[0m: element 0 of tensors does not require grad and does not have a grad_fn"
     ]
    }
   ],
   "source": [
    "loss=grad\n",
    "loss.backward()"
   ]
  },
  {
   "cell_type": "code",
   "execution_count": 174,
   "metadata": {},
   "outputs": [
    {
     "data": {
      "text/plain": [
       "tensor(12., grad_fn=<AddBackward0>)"
      ]
     },
     "execution_count": 174,
     "metadata": {},
     "output_type": "execute_result"
    }
   ],
   "source": [
    "f"
   ]
  },
  {
   "cell_type": "code",
   "execution_count": 175,
   "metadata": {},
   "outputs": [
    {
     "data": {
      "text/plain": [
       "tensor(16., grad_fn=<CopyBackwards>)"
      ]
     },
     "execution_count": 175,
     "metadata": {},
     "output_type": "execute_result"
    }
   ],
   "source": [
    "first_derivative"
   ]
  },
  {
   "cell_type": "code",
   "execution_count": 176,
   "metadata": {},
   "outputs": [
    {
     "ename": "RuntimeError",
     "evalue": "One of the differentiated Tensors appears to not have been used in the graph. Set allow_unused=True if this is the desired behavior.",
     "output_type": "error",
     "traceback": [
      "\u001b[0;31m---------------------------------------------------------------------------\u001b[0m",
      "\u001b[0;31mRuntimeError\u001b[0m                              Traceback (most recent call last)",
      "Cell \u001b[0;32mIn[176], line 1\u001b[0m\n\u001b[0;32m----> 1\u001b[0m \u001b[43mtorch\u001b[49m\u001b[38;5;241;43m.\u001b[39;49m\u001b[43mautograd\u001b[49m\u001b[38;5;241;43m.\u001b[39;49m\u001b[43mgrad\u001b[49m\u001b[43m(\u001b[49m\u001b[43mfirst_derivative\u001b[49m\u001b[43m,\u001b[49m\u001b[43m \u001b[49m\u001b[43mx\u001b[49m\u001b[43m,\u001b[49m\u001b[43m \u001b[49m\u001b[43mcreate_graph\u001b[49m\u001b[38;5;241;43m=\u001b[39;49m\u001b[38;5;28;43;01mTrue\u001b[39;49;00m\u001b[43m)\u001b[49m\n",
      "File \u001b[0;32m~/.pyenv/versions/3.9.19/lib/python3.9/site-packages/torch/autograd/__init__.py:411\u001b[0m, in \u001b[0;36mgrad\u001b[0;34m(outputs, inputs, grad_outputs, retain_graph, create_graph, only_inputs, allow_unused, is_grads_batched, materialize_grads)\u001b[0m\n\u001b[1;32m    407\u001b[0m     result \u001b[38;5;241m=\u001b[39m _vmap_internals\u001b[38;5;241m.\u001b[39m_vmap(vjp, \u001b[38;5;241m0\u001b[39m, \u001b[38;5;241m0\u001b[39m, allow_none_pass_through\u001b[38;5;241m=\u001b[39m\u001b[38;5;28;01mTrue\u001b[39;00m)(\n\u001b[1;32m    408\u001b[0m         grad_outputs_\n\u001b[1;32m    409\u001b[0m     )\n\u001b[1;32m    410\u001b[0m \u001b[38;5;28;01melse\u001b[39;00m:\n\u001b[0;32m--> 411\u001b[0m     result \u001b[38;5;241m=\u001b[39m \u001b[43mVariable\u001b[49m\u001b[38;5;241;43m.\u001b[39;49m\u001b[43m_execution_engine\u001b[49m\u001b[38;5;241;43m.\u001b[39;49m\u001b[43mrun_backward\u001b[49m\u001b[43m(\u001b[49m\u001b[43m  \u001b[49m\u001b[38;5;66;43;03m# Calls into the C++ engine to run the backward pass\u001b[39;49;00m\n\u001b[1;32m    412\u001b[0m \u001b[43m        \u001b[49m\u001b[43mt_outputs\u001b[49m\u001b[43m,\u001b[49m\n\u001b[1;32m    413\u001b[0m \u001b[43m        \u001b[49m\u001b[43mgrad_outputs_\u001b[49m\u001b[43m,\u001b[49m\n\u001b[1;32m    414\u001b[0m \u001b[43m        \u001b[49m\u001b[43mretain_graph\u001b[49m\u001b[43m,\u001b[49m\n\u001b[1;32m    415\u001b[0m \u001b[43m        \u001b[49m\u001b[43mcreate_graph\u001b[49m\u001b[43m,\u001b[49m\n\u001b[1;32m    416\u001b[0m \u001b[43m        \u001b[49m\u001b[43minputs\u001b[49m\u001b[43m,\u001b[49m\n\u001b[1;32m    417\u001b[0m \u001b[43m        \u001b[49m\u001b[43mallow_unused\u001b[49m\u001b[43m,\u001b[49m\n\u001b[1;32m    418\u001b[0m \u001b[43m        \u001b[49m\u001b[43maccumulate_grad\u001b[49m\u001b[38;5;241;43m=\u001b[39;49m\u001b[38;5;28;43;01mFalse\u001b[39;49;00m\u001b[43m,\u001b[49m\n\u001b[1;32m    419\u001b[0m \u001b[43m    \u001b[49m\u001b[43m)\u001b[49m  \u001b[38;5;66;03m# Calls into the C++ engine to run the backward pass\u001b[39;00m\n\u001b[1;32m    420\u001b[0m \u001b[38;5;28;01mif\u001b[39;00m materialize_grads:\n\u001b[1;32m    421\u001b[0m     \u001b[38;5;28;01mif\u001b[39;00m \u001b[38;5;28many\u001b[39m(\n\u001b[1;32m    422\u001b[0m         result[i] \u001b[38;5;129;01mis\u001b[39;00m \u001b[38;5;28;01mNone\u001b[39;00m \u001b[38;5;129;01mand\u001b[39;00m \u001b[38;5;129;01mnot\u001b[39;00m is_tensor_like(inputs[i])\n\u001b[1;32m    423\u001b[0m         \u001b[38;5;28;01mfor\u001b[39;00m i \u001b[38;5;129;01min\u001b[39;00m \u001b[38;5;28mrange\u001b[39m(\u001b[38;5;28mlen\u001b[39m(inputs))\n\u001b[1;32m    424\u001b[0m     ):\n",
      "\u001b[0;31mRuntimeError\u001b[0m: One of the differentiated Tensors appears to not have been used in the graph. Set allow_unused=True if this is the desired behavior."
     ]
    }
   ],
   "source": [
    "torch.autograd.grad(first_derivative, x, create_graph=True)"
   ]
  },
  {
   "cell_type": "code",
   "execution_count": 180,
   "metadata": {},
   "outputs": [
    {
     "name": "stderr",
     "output_type": "stream",
     "text": [
      "/Users/justinas/.pyenv/versions/3.9.19/lib/python3.9/site-packages/kan/MultKAN.py:798: UserWarning: std(): degrees of freedom is <= 0. Correction should be strictly less than the reduction factor (input numel divided by output numel). (Triggered internally at /Users/runner/work/pytorch/pytorch/pytorch/aten/src/ATen/native/ReduceOps.cpp:1760.)\n",
      "  self.subnode_actscale.append(torch.std(x, dim=0).detach())\n",
      "/Users/justinas/.pyenv/versions/3.9.19/lib/python3.9/site-packages/kan/MultKAN.py:808: UserWarning: std(): degrees of freedom is <= 0. Correction should be strictly less than the reduction factor (input numel divided by output numel). (Triggered internally at /Users/runner/work/pytorch/pytorch/pytorch/aten/src/ATen/native/ReduceOps.cpp:1760.)\n",
      "  input_range = torch.std(preacts, dim=0) + 0.1\n",
      "/Users/justinas/.pyenv/versions/3.9.19/lib/python3.9/site-packages/kan/MultKAN.py:809: UserWarning: std(): degrees of freedom is <= 0. Correction should be strictly less than the reduction factor (input numel divided by output numel). (Triggered internally at /Users/runner/work/pytorch/pytorch/pytorch/aten/src/ATen/native/ReduceOps.cpp:1760.)\n",
      "  output_range_spline = torch.std(postacts_numerical, dim=0) # for training, only penalize the spline part\n",
      "/Users/justinas/.pyenv/versions/3.9.19/lib/python3.9/site-packages/kan/MultKAN.py:810: UserWarning: std(): degrees of freedom is <= 0. Correction should be strictly less than the reduction factor (input numel divided by output numel). (Triggered internally at /Users/runner/work/pytorch/pytorch/pytorch/aten/src/ATen/native/ReduceOps.cpp:1760.)\n",
      "  output_range = torch.std(postacts, dim=0) # for visualization, include the contribution from both spline + symbolic\n"
     ]
    },
    {
     "data": {
      "text/plain": [
       "tensor([[-0.8762]], grad_fn=<AddBackward0>)"
      ]
     },
     "execution_count": 180,
     "metadata": {},
     "output_type": "execute_result"
    }
   ],
   "source": [
    "x = torch.tensor([[2.0]], requires_grad=True)\n",
    "model(x)"
   ]
  },
  {
   "cell_type": "code",
   "execution_count": 190,
   "metadata": {},
   "outputs": [
    {
     "data": {
      "text/plain": [
       "tensor([[0.0434]], grad_fn=<SliceBackwardBackward0>)"
      ]
     },
     "execution_count": 190,
     "metadata": {},
     "output_type": "execute_result"
    }
   ],
   "source": [
    "first_derivative[0]"
   ]
  },
  {
   "cell_type": "code",
   "execution_count": 191,
   "metadata": {},
   "outputs": [
    {
     "name": "stdout",
     "output_type": "stream",
     "text": [
      "First derivative: (tensor([[0.0434]], grad_fn=<SliceBackwardBackward0>),)\n",
      "Second derivative: tensor([[-0.0012]])\n"
     ]
    }
   ],
   "source": [
    "import torch\n",
    "\n",
    "# Define the variable\n",
    "x = torch.tensor([[2.0]], requires_grad=True)\n",
    "\n",
    "# Define the function\n",
    "f =model(x)[0]\n",
    "\n",
    "# First-order gradient (df/dx)\n",
    "#f.backward(create_graph=True)  # Retain the computation graph to calculate higher-order gradients\n",
    "\n",
    "# Access the first-order gradient\n",
    "first_derivative = torch.autograd.grad(f, x, create_graph=True)\n",
    "first_derivative[0].backward()\n",
    "# Compute the second-order gradient (d^2f/dx^2)\n",
    "second_derivative = x.grad\n",
    "\n",
    "print(\"First derivative:\", first_derivative)  # Should be 12.0 (3*x^2 at x = 2)\n",
    "print(\"Second derivative:\", second_derivative)  # Should be 12.0 (6*x at x = 2)\n"
   ]
  },
  {
   "cell_type": "code",
   "execution_count": null,
   "metadata": {},
   "outputs": [],
   "source": [
    ".backward(retain_graph=True)"
   ]
  },
  {
   "cell_type": "code",
   "execution_count": 81,
   "metadata": {},
   "outputs": [
    {
     "data": {
      "text/plain": [
       "tensor([[-0.8100],\n",
       "        [-1.4641],\n",
       "        [ 1.0613],\n",
       "        [-1.2123],\n",
       "        [ 0.7789]])"
      ]
     },
     "execution_count": 81,
     "metadata": {},
     "output_type": "execute_result"
    }
   ],
   "source": [
    "x.detach()"
   ]
  },
  {
   "cell_type": "code",
   "execution_count": 90,
   "metadata": {},
   "outputs": [
    {
     "data": {
      "text/plain": [
       "tensor([[-0.0238],\n",
       "        [ 0.0000],\n",
       "        [ 0.0000],\n",
       "        [ 0.0000],\n",
       "        [ 0.0000]])"
      ]
     },
     "execution_count": 90,
     "metadata": {},
     "output_type": "execute_result"
    }
   ],
   "source": [
    "x.grad"
   ]
  },
  {
   "cell_type": "code",
   "execution_count": 83,
   "metadata": {},
   "outputs": [],
   "source": [
    "x = torch.randn(5, 1, requires_grad=True)  # Batch size of 5, input dimension of 10\n"
   ]
  },
  {
   "cell_type": "code",
   "execution_count": 84,
   "metadata": {},
   "outputs": [],
   "source": [
    "grad_network(x,0)[0].backward()"
   ]
  },
  {
   "cell_type": "code",
   "execution_count": 86,
   "metadata": {},
   "outputs": [
    {
     "data": {
      "text/plain": [
       "tensor([[-0.0664],\n",
       "        [-0.0059],\n",
       "        [-0.1011],\n",
       "        [ 0.1018],\n",
       "        [-0.0664]], grad_fn=<UnsqueezeBackward0>)"
      ]
     },
     "execution_count": 86,
     "metadata": {},
     "output_type": "execute_result"
    }
   ],
   "source": [
    "grad_network(x,0)"
   ]
  }
 ],
 "metadata": {
  "kernelspec": {
   "display_name": "Python 3",
   "language": "python",
   "name": "python3"
  },
  "language_info": {
   "codemirror_mode": {
    "name": "ipython",
    "version": 3
   },
   "file_extension": ".py",
   "mimetype": "text/x-python",
   "name": "python",
   "nbconvert_exporter": "python",
   "pygments_lexer": "ipython3",
   "version": "3.9.19"
  }
 },
 "nbformat": 4,
 "nbformat_minor": 2
}
